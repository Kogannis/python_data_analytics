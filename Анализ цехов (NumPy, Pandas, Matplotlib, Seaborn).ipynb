{
 "cells": [
  {
   "cell_type": "markdown",
   "id": "49b4cd2d-5bb1-4eb8-a6f0-3589e7ac2ffa",
   "metadata": {},
   "source": [
    "**Техническое задание:**\n",
    "\n",
    "Исходные данные представлены в двух CSV-файлах:\n",
    "- Factories.csv - информация о российских цехах с площадью зала до 2500 кв.м.\n",
    "- Products.csv - информация о выпускаемой продукции на данных цехах. \n",
    "\n",
    "Основное задание: обработка и чистка данных, их визуализация и подготовка к статистическому анализу.\n",
    "\n",
    "Дополнительное задание: исследование гипотезы. Гипотеза: температура на цехах влияет на рост количества брака.\n",
    "\n",
    "Что сделано в рамках проекта? \n",
    "1) Обработаны NaN-значения.\n",
    "2) Обработаны дубликаты.\n",
    "3) Скорректированы типы данных, проведено округление.\n",
    "4) После предварительной очистки и обработки данных, проведено объединение двух датафреймов.\n",
    "5) Проведена сортировка данных.\n",
    "6) Проведена фильтрация данных.\n",
    "7) Выявлены, а также визуализированы (с использованием boxplot) аномалии и выбросы. Проведена очистка данных.\n",
    "8) Проведена группировка данных. Результаты визуализированы (с использованием столбчатых диаграмм, а также тепловой карты).\n",
    "9) Проведен корреляционный анализ с целью выявления взаимосвязей между отдельными числовыми данными, в частности, выявлена взаимосвязь между температурой на цехах и количеством брака.\n",
    "10) Даны выводы и рекомендации."
   ]
  },
  {
   "cell_type": "markdown",
   "id": "73a2bd8b-c888-4363-a1e0-59e732e90e8e",
   "metadata": {},
   "source": [
    "**Шаг 1. Импортируем необходимые библиотки для анализа и визуализации данных:**"
   ]
  },
  {
   "cell_type": "code",
   "execution_count": 87,
   "id": "789ec8b4-d72f-4fed-b0a1-775e9098085f",
   "metadata": {},
   "outputs": [],
   "source": [
    "import numpy as np\n",
    "import pandas as pd\n",
    "import matplotlib.pyplot as plt\n",
    "import seaborn as sns"
   ]
  },
  {
   "cell_type": "markdown",
   "id": "24e5c854-95e9-40af-a2e0-35d572618132",
   "metadata": {},
   "source": [
    "**Шаг 2. Чтение данных из CSV-файлов:**\n",
    "- Factories.csv - информация о российских цехах с площадью зала до 2500 кв.м.\n",
    "- Products.csv - информация о выпускаемой продукции на данных цехах. \n",
    "\n",
    "Загрузим данные из Factories.csv в df_factories, а данные из Products.csv в df_products. Разделитель - запятая (по умолчанию), поэтому sep не прописываем."
   ]
  },
  {
   "cell_type": "code",
   "execution_count": 88,
   "id": "8a85acc3-4da9-463f-bb1b-9e0f8b3d2465",
   "metadata": {},
   "outputs": [],
   "source": [
    "df_factories = pd.read_csv(\"C:\\\\Users\\\\Корюн\\\\Desktop\\\\Factories.csv\", encoding='utf-8')"
   ]
  },
  {
   "cell_type": "code",
   "execution_count": 89,
   "id": "92fb607d-217c-4e23-b72c-91d08c340415",
   "metadata": {},
   "outputs": [],
   "source": [
    "df_products = pd.read_csv(\"C:\\\\Users\\\\Корюн\\\\Desktop\\\\Products.csv\", encoding='utf-8')"
   ]
  },
  {
   "cell_type": "markdown",
   "id": "56d7fe98-efd5-4b02-9ea0-127c575b24ee",
   "metadata": {},
   "source": [
    "**Шаг 3. Предварительно взглянем на данные в датафрейме df_factories:**\n",
    "- Размерность - (50 строк, 6 колонок). \n",
    "- Есть некорректные типы данных. У колонки 'дата_открытия' тип данных - object, а должен быть datetime64. У колонки 'количество_сотрудников' тип данных - float64, а должен быть int64.\n",
    "- Есть 5 строк с NaN значениями."
   ]
  },
  {
   "cell_type": "code",
   "execution_count": 90,
   "id": "8fa249b5-5138-42bb-8f01-4c3e95f4a27a",
   "metadata": {},
   "outputs": [
    {
     "name": "stdout",
     "output_type": "stream",
     "text": [
      "<class 'pandas.core.frame.DataFrame'>\n",
      "RangeIndex: 50 entries, 0 to 49\n",
      "Data columns (total 6 columns):\n",
      " #   Column                  Non-Null Count  Dtype  \n",
      "---  ------                  --------------  -----  \n",
      " 0   id_цеха                 50 non-null     int64  \n",
      " 1   город                   50 non-null     object \n",
      " 2   дата_открытия           50 non-null     object \n",
      " 3   количество_сотрудников  45 non-null     float64\n",
      " 4   площадь_зала            50 non-null     float64\n",
      " 5   температура_зала        50 non-null     float64\n",
      "dtypes: float64(3), int64(1), object(2)\n",
      "memory usage: 2.5+ KB\n"
     ]
    }
   ],
   "source": [
    "df_factories.info()"
   ]
  },
  {
   "cell_type": "markdown",
   "id": "c826af80-38eb-424b-b0de-6090e04c684d",
   "metadata": {},
   "source": [
    "**Шаг 4. Аналогично взглянем на данные в датафрейме df_products:**\n",
    "- Размерность - (1500 строк, 4 колонки). \n",
    "- Есть некорректные типы данных. У колонок 'количество_произведено' и 'количество_брака' типы данных - float64, а должны быть int64. \n",
    "- Есть 70 строк с NaN значениями."
   ]
  },
  {
   "cell_type": "code",
   "execution_count": 91,
   "id": "1b04f1e0-84c8-45b8-9858-cbf0e856269e",
   "metadata": {},
   "outputs": [
    {
     "name": "stdout",
     "output_type": "stream",
     "text": [
      "<class 'pandas.core.frame.DataFrame'>\n",
      "RangeIndex: 1500 entries, 0 to 1499\n",
      "Data columns (total 4 columns):\n",
      " #   Column                  Non-Null Count  Dtype  \n",
      "---  ------                  --------------  -----  \n",
      " 0   id_цеха                 1500 non-null   int64  \n",
      " 1   наименование_продукта   1430 non-null   object \n",
      " 2   количество_произведено  1430 non-null   float64\n",
      " 3   количество_брака        1430 non-null   float64\n",
      "dtypes: float64(2), int64(1), object(1)\n",
      "memory usage: 47.0+ KB\n"
     ]
    }
   ],
   "source": [
    "df_products.info()"
   ]
  },
  {
   "cell_type": "markdown",
   "id": "a2e85155-019b-445c-8770-3193effa3777",
   "metadata": {},
   "source": [
    "**Шаг 5. Для начала обработаем в обоих датафреймах NaN значения:** \n",
    "\n",
    "Какие есть способы?  \n",
    "- Заполнить (например, обнулить их).\n",
    "- Удалить их.\n",
    "- Сохранить как отдельную категорию (иногда это необходимо) и т. д.\n",
    "\n",
    "В рамках данного исследования в сохранении или заполнении NaN-значений нет необходимости, поэтому выберем стратегию удаления. После удаления строк с NaN значениями появятся пробелы между индексами из-за сохранения старого порядка, что для нас не столь важно. Однако, если необходимо обновить индексы и избежать пропусков между ними, можно использовать конструкцию df_factories.dropna().reset_index(drop=True)."
   ]
  },
  {
   "cell_type": "code",
   "execution_count": 92,
   "id": "5ed51dad-851e-4197-aa9f-39463446b33c",
   "metadata": {},
   "outputs": [],
   "source": [
    "df_factories.dropna(inplace=True)"
   ]
  },
  {
   "cell_type": "code",
   "execution_count": 93,
   "id": "03eacb8a-85dd-4a4e-8c99-7ec908a9e296",
   "metadata": {},
   "outputs": [],
   "source": [
    "df_products.dropna(inplace=True)"
   ]
  },
  {
   "cell_type": "markdown",
   "id": "c2fed015-0636-4cbb-aacf-f8a2a45a6f27",
   "metadata": {},
   "source": [
    "**Шаг 6. Проверим колонку df_factories['id_цеха'] на наличие или отсутствие дубликатов, при налчии - удалим их:** \n",
    "\n",
    "В результате проверки дубликаты не обнаружены. Дубликаты в остальных колонках, а также дубликаты в df_products в рамках данного исследования допустимы."
   ]
  },
  {
   "cell_type": "code",
   "execution_count": 94,
   "id": "8919315b-81fc-47b0-bc01-02af0327ef6c",
   "metadata": {},
   "outputs": [
    {
     "data": {
      "text/plain": [
       "np.int64(0)"
      ]
     },
     "execution_count": 94,
     "metadata": {},
     "output_type": "execute_result"
    }
   ],
   "source": [
    "df_factories['id_цеха'].duplicated().sum()"
   ]
  },
  {
   "cell_type": "markdown",
   "id": "a8296007-58e0-4eb3-bacf-21beacb6d54d",
   "metadata": {},
   "source": [
    "**Шаг 7. В пунктах 3 и 4 были выявлены некорректные типы данных. Исправим это:**"
   ]
  },
  {
   "cell_type": "code",
   "execution_count": 95,
   "id": "ccec3886-a8d1-45c6-a49d-709c32ffcfb1",
   "metadata": {},
   "outputs": [],
   "source": [
    "df_factories['дата_открытия'] = df_factories['дата_открытия'].astype('datetime64[ns]')"
   ]
  },
  {
   "cell_type": "code",
   "execution_count": 96,
   "id": "beb43d60-3b96-4d7a-85d5-58a3435a756a",
   "metadata": {},
   "outputs": [],
   "source": [
    "df_factories['количество_сотрудников'] = df_factories['количество_сотрудников'].astype('int64')"
   ]
  },
  {
   "cell_type": "code",
   "execution_count": 97,
   "id": "50185819-d391-42fa-843e-da84294a55b8",
   "metadata": {},
   "outputs": [],
   "source": [
    "df_products['количество_произведено'] = df_products['количество_произведено'].astype('int64')"
   ]
  },
  {
   "cell_type": "code",
   "execution_count": 98,
   "id": "933ec7a2-428f-4fd5-8d47-28538392a20c",
   "metadata": {},
   "outputs": [],
   "source": [
    "df_products['количество_брака'] = df_products['количество_брака'].astype('int64')"
   ]
  },
  {
   "cell_type": "markdown",
   "id": "8f1bd885-aee5-4cd1-8f15-f117710ce84c",
   "metadata": {},
   "source": [
    "Убедимся, что типы данных обновились на корректные:"
   ]
  },
  {
   "cell_type": "code",
   "execution_count": 99,
   "id": "9d02c475-b111-4319-80f3-6a34eb45ce4f",
   "metadata": {},
   "outputs": [
    {
     "data": {
      "text/plain": [
       "id_цеха                            int64\n",
       "город                             object\n",
       "дата_открытия             datetime64[ns]\n",
       "количество_сотрудников             int64\n",
       "площадь_зала                     float64\n",
       "температура_зала                 float64\n",
       "dtype: object"
      ]
     },
     "execution_count": 99,
     "metadata": {},
     "output_type": "execute_result"
    }
   ],
   "source": [
    "df_factories.dtypes"
   ]
  },
  {
   "cell_type": "code",
   "execution_count": 100,
   "id": "f63544aa-af71-4e2d-ac98-27515747f76d",
   "metadata": {},
   "outputs": [
    {
     "data": {
      "text/plain": [
       "id_цеха                    int64\n",
       "наименование_продукта     object\n",
       "количество_произведено     int64\n",
       "количество_брака           int64\n",
       "dtype: object"
      ]
     },
     "execution_count": 100,
     "metadata": {},
     "output_type": "execute_result"
    }
   ],
   "source": [
    "df_products.dtypes"
   ]
  },
  {
   "cell_type": "markdown",
   "id": "d4e1c097-a74a-48dd-8706-974d788b4486",
   "metadata": {},
   "source": [
    "**Шаг 8. Округлим колонки df_factories['площадь_зала'] и df_factories['температура_зала'] до двух знаков после запятой:**"
   ]
  },
  {
   "cell_type": "code",
   "execution_count": 101,
   "id": "1dc9d384-7db1-4405-ab0a-c91a65c9bd5d",
   "metadata": {},
   "outputs": [],
   "source": [
    "df_factories[['площадь_зала', 'температура_зала']] = df_factories[['площадь_зала', 'температура_зала']].round(2)"
   ]
  },
  {
   "cell_type": "markdown",
   "id": "4087650a-190c-4cca-a399-e59bfeff0881",
   "metadata": {},
   "source": [
    "**Шаг 9. Теперь датафреймы можно объединить по общей колонке id_цеха:**"
   ]
  },
  {
   "cell_type": "code",
   "execution_count": 102,
   "id": "d55d40ab-541b-4544-b59f-3c8796304796",
   "metadata": {},
   "outputs": [],
   "source": [
    "result_df = pd.merge(df_factories, df_products, on='id_цеха', how='left')"
   ]
  },
  {
   "cell_type": "markdown",
   "id": "6278a1e4-e672-47c4-8d0c-52ae2c177aff",
   "metadata": {},
   "source": [
    "**Шаг 10. Для удобства и наглядности выполним сортировку:**"
   ]
  },
  {
   "cell_type": "code",
   "execution_count": 103,
   "id": "98cb08b5-5419-4ed4-b1a6-daff55ee4d14",
   "metadata": {},
   "outputs": [],
   "source": [
    "result_df.sort_values(['id_цеха', 'количество_произведено'], ascending=[True, False], inplace=True)"
   ]
  },
  {
   "cell_type": "markdown",
   "id": "9235e26d-76b1-44b7-9903-d52a8bd64737",
   "metadata": {},
   "source": [
    "**Шаг 11. Взглянем на общую статистику по числовым данным:**\n",
    "\n",
    "Сразу можно заметить аномально большое значение в колонке result_df['площадь_зала'], где максимальное значение достигает 46230.61. Вспомним, что по условию мы исследуем российские цеха с площадью до 2500 кв.м. \n",
    "\n",
    "Что можно с этим сделать? \n",
    "- Можно отфильтровать result_df и исключить из анализа все строки, где result_df['площадь_зала'] = 46230.61.\n",
    "- А можно их сразу удалить, так как мы исследуем лишь те цеха, площадь зала которых < 2500. Так и сделаем."
   ]
  },
  {
   "cell_type": "code",
   "execution_count": 104,
   "id": "ddfc80b8-9a63-40dd-a1a6-2812421841b4",
   "metadata": {},
   "outputs": [
    {
     "data": {
      "text/html": [
       "<div>\n",
       "<style scoped>\n",
       "    .dataframe tbody tr th:only-of-type {\n",
       "        vertical-align: middle;\n",
       "    }\n",
       "\n",
       "    .dataframe tbody tr th {\n",
       "        vertical-align: top;\n",
       "    }\n",
       "\n",
       "    .dataframe thead th {\n",
       "        text-align: right;\n",
       "    }\n",
       "</style>\n",
       "<table border=\"1\" class=\"dataframe\">\n",
       "  <thead>\n",
       "    <tr style=\"text-align: right;\">\n",
       "      <th></th>\n",
       "      <th>id_цеха</th>\n",
       "      <th>дата_открытия</th>\n",
       "      <th>количество_сотрудников</th>\n",
       "      <th>площадь_зала</th>\n",
       "      <th>температура_зала</th>\n",
       "      <th>количество_произведено</th>\n",
       "      <th>количество_брака</th>\n",
       "    </tr>\n",
       "  </thead>\n",
       "  <tbody>\n",
       "    <tr>\n",
       "      <th>count</th>\n",
       "      <td>1296.000000</td>\n",
       "      <td>1296</td>\n",
       "      <td>1296.000000</td>\n",
       "      <td>1296.000000</td>\n",
       "      <td>1296.000000</td>\n",
       "      <td>1296.000000</td>\n",
       "      <td>1296.000000</td>\n",
       "    </tr>\n",
       "    <tr>\n",
       "      <th>mean</th>\n",
       "      <td>125.680556</td>\n",
       "      <td>2022-03-26 09:48:53.333333504</td>\n",
       "      <td>424.728395</td>\n",
       "      <td>2834.901713</td>\n",
       "      <td>29.660509</td>\n",
       "      <td>2510.523148</td>\n",
       "      <td>109.592593</td>\n",
       "    </tr>\n",
       "    <tr>\n",
       "      <th>min</th>\n",
       "      <td>100.000000</td>\n",
       "      <td>2018-04-16 00:00:00</td>\n",
       "      <td>130.000000</td>\n",
       "      <td>384.700000</td>\n",
       "      <td>10.190000</td>\n",
       "      <td>100.000000</td>\n",
       "      <td>0.000000</td>\n",
       "    </tr>\n",
       "    <tr>\n",
       "      <th>25%</th>\n",
       "      <td>112.000000</td>\n",
       "      <td>2020-03-11 00:00:00</td>\n",
       "      <td>240.500000</td>\n",
       "      <td>1124.100000</td>\n",
       "      <td>15.020000</td>\n",
       "      <td>1325.750000</td>\n",
       "      <td>35.000000</td>\n",
       "    </tr>\n",
       "    <tr>\n",
       "      <th>50%</th>\n",
       "      <td>127.000000</td>\n",
       "      <td>2022-12-05 00:00:00</td>\n",
       "      <td>422.000000</td>\n",
       "      <td>1630.610000</td>\n",
       "      <td>27.220000</td>\n",
       "      <td>2464.500000</td>\n",
       "      <td>93.000000</td>\n",
       "    </tr>\n",
       "    <tr>\n",
       "      <th>75%</th>\n",
       "      <td>138.000000</td>\n",
       "      <td>2024-03-30 00:00:00</td>\n",
       "      <td>607.000000</td>\n",
       "      <td>2288.400000</td>\n",
       "      <td>41.300000</td>\n",
       "      <td>3696.250000</td>\n",
       "      <td>169.250000</td>\n",
       "    </tr>\n",
       "    <tr>\n",
       "      <th>max</th>\n",
       "      <td>150.000000</td>\n",
       "      <td>2024-10-23 00:00:00</td>\n",
       "      <td>797.000000</td>\n",
       "      <td>46230.610000</td>\n",
       "      <td>54.740000</td>\n",
       "      <td>4985.000000</td>\n",
       "      <td>368.000000</td>\n",
       "    </tr>\n",
       "    <tr>\n",
       "      <th>std</th>\n",
       "      <td>15.463090</td>\n",
       "      <td>NaN</td>\n",
       "      <td>199.982347</td>\n",
       "      <td>6796.754333</td>\n",
       "      <td>14.308433</td>\n",
       "      <td>1394.585404</td>\n",
       "      <td>86.401527</td>\n",
       "    </tr>\n",
       "  </tbody>\n",
       "</table>\n",
       "</div>"
      ],
      "text/plain": [
       "           id_цеха                  дата_открытия  количество_сотрудников  \\\n",
       "count  1296.000000                           1296             1296.000000   \n",
       "mean    125.680556  2022-03-26 09:48:53.333333504              424.728395   \n",
       "min     100.000000            2018-04-16 00:00:00              130.000000   \n",
       "25%     112.000000            2020-03-11 00:00:00              240.500000   \n",
       "50%     127.000000            2022-12-05 00:00:00              422.000000   \n",
       "75%     138.000000            2024-03-30 00:00:00              607.000000   \n",
       "max     150.000000            2024-10-23 00:00:00              797.000000   \n",
       "std      15.463090                            NaN              199.982347   \n",
       "\n",
       "       площадь_зала  температура_зала  количество_произведено  \\\n",
       "count   1296.000000       1296.000000             1296.000000   \n",
       "mean    2834.901713         29.660509             2510.523148   \n",
       "min      384.700000         10.190000              100.000000   \n",
       "25%     1124.100000         15.020000             1325.750000   \n",
       "50%     1630.610000         27.220000             2464.500000   \n",
       "75%     2288.400000         41.300000             3696.250000   \n",
       "max    46230.610000         54.740000             4985.000000   \n",
       "std     6796.754333         14.308433             1394.585404   \n",
       "\n",
       "       количество_брака  \n",
       "count       1296.000000  \n",
       "mean         109.592593  \n",
       "min            0.000000  \n",
       "25%           35.000000  \n",
       "50%           93.000000  \n",
       "75%          169.250000  \n",
       "max          368.000000  \n",
       "std           86.401527  "
      ]
     },
     "execution_count": 104,
     "metadata": {},
     "output_type": "execute_result"
    }
   ],
   "source": [
    "result_df.describe()"
   ]
  },
  {
   "cell_type": "markdown",
   "id": "86a24c11-31b3-42ae-a01b-c71a763ce697",
   "metadata": {},
   "source": [
    "Выявить аномалии и выбросы можно также визуальным путём. Одним из таких способов является построение фигуры boxplot (\"Ящик с усами\"). По построенному графику невооружённым глазом видны сразу 2 выброса с большими значениями."
   ]
  },
  {
   "cell_type": "code",
   "execution_count": 105,
   "id": "ab1c4f0b-4fc9-41a3-92e4-e5c63b1117b4",
   "metadata": {},
   "outputs": [
    {
     "data": {
      "image/png": "[encoded data removed]",
      "text/plain": [
       "<Figure size 1300x300 with 1 Axes>"
      ]
     },
     "metadata": {},
     "output_type": "display_data"
    }
   ],
   "source": [
    "plt.figure(figsize=(13, 3))\n",
    "plt.boxplot(result_df['площадь_зала'], \n",
    "            patch_artist=True, \n",
    "            vert=False,\n",
    "            widths=0.7)\n",
    "plt.xlabel('Площадь зала', labelpad=5)\n",
    "plt.grid(linestyle='--', alpha=0.7)\n",
    "plt.show()"
   ]
  },
  {
   "cell_type": "markdown",
   "id": "3960eaae-f359-4d8b-936f-0666b1e4f898",
   "metadata": {},
   "source": [
    "**Шаг 12. Найдем топ 3 уникальных максимальных значений в колонке result_df['площадь_зала'], где было обнаружено аномальное значение:**"
   ]
  },
  {
   "cell_type": "code",
   "execution_count": 106,
   "id": "4638a3ac-1608-4055-a056-39b0ee80bfa3",
   "metadata": {},
   "outputs": [],
   "source": [
    "unique_values = np.sort(result_df['площадь_зала'].unique())[-3:][::-1]"
   ]
  },
  {
   "cell_type": "code",
   "execution_count": 107,
   "id": "3950fbc2-b89c-4147-a303-513d61060405",
   "metadata": {},
   "outputs": [
    {
     "data": {
      "text/plain": [
       "array([46230.61, 16493.64,  2454.92])"
      ]
     },
     "execution_count": 107,
     "metadata": {},
     "output_type": "execute_result"
    }
   ],
   "source": [
    "unique_values"
   ]
  },
  {
   "cell_type": "markdown",
   "id": "830cd5ff-097f-4984-afb3-773e00f18c7a",
   "metadata": {},
   "source": [
    "Заметим, что лишь 2 уникальных значения привышают 2500. Выделим их с помощью среза в отдельный массив:"
   ]
  },
  {
   "cell_type": "code",
   "execution_count": 108,
   "id": "60e9857e-fe2c-4262-bf8e-0c62f380c309",
   "metadata": {},
   "outputs": [],
   "source": [
    "values_to_remove  = unique_values[:2]"
   ]
  },
  {
   "cell_type": "code",
   "execution_count": 109,
   "id": "7757ee87-ebf7-4c5b-b14b-d1048d95ffc7",
   "metadata": {},
   "outputs": [
    {
     "data": {
      "text/plain": [
       "array([46230.61, 16493.64])"
      ]
     },
     "execution_count": 109,
     "metadata": {},
     "output_type": "execute_result"
    }
   ],
   "source": [
    "values_to_remove"
   ]
  },
  {
   "cell_type": "markdown",
   "id": "f9999f7b-e599-452f-962d-44254138d497",
   "metadata": {},
   "source": [
    "Удалим из result_df те строки, где колонка result_df['площадь_зала'] равна значениям из массива values_to_remove."
   ]
  },
  {
   "cell_type": "code",
   "execution_count": 110,
   "id": "c3a4393c-7763-4438-a8a3-8e770d39fa7c",
   "metadata": {},
   "outputs": [],
   "source": [
    "result_df = result_df.query(\"площадь_зала not in @values_to_remove\")"
   ]
  },
  {
   "cell_type": "markdown",
   "id": "37fa99b7-8d93-4d19-9c2a-36de6f88fcba",
   "metadata": {},
   "source": [
    "Убедимся теперь, что аномальные значения (которые больше 2500) в колонке result_df['площадь_зала'] отсутствуют."
   ]
  },
  {
   "cell_type": "code",
   "execution_count": 111,
   "id": "d3cf7bd1-d712-4179-a577-33e19111fe1d",
   "metadata": {},
   "outputs": [
    {
     "data": {
      "text/plain": [
       "np.float64(2454.92)"
      ]
     },
     "execution_count": 111,
     "metadata": {},
     "output_type": "execute_result"
    }
   ],
   "source": [
    "result_df['площадь_зала'].max()"
   ]
  },
  {
   "cell_type": "markdown",
   "id": "7170a017-2ea6-45a6-b7de-f32c1043f05d",
   "metadata": {},
   "source": [
    "Для наглядности ещё раз выведем boxplot и убедимся, что выбросы устранены."
   ]
  },
  {
   "cell_type": "code",
   "execution_count": 112,
   "id": "a5679e84-c5a8-438b-8ef1-68d8a2750f26",
   "metadata": {},
   "outputs": [
    {
     "data": {
      "image/png": "[encoded data removed]",
      "text/plain": [
       "<Figure size 1300x300 with 1 Axes>"
      ]
     },
     "metadata": {},
     "output_type": "display_data"
    }
   ],
   "source": [
    "plt.figure(figsize=(13, 3))\n",
    "plt.boxplot(result_df['площадь_зала'], \n",
    "            patch_artist=True, \n",
    "            vert=False)\n",
    "plt.xlabel('Площадь зала', labelpad=5)\n",
    "plt.grid(linestyle='--', alpha=0.7)\n",
    "plt.show()"
   ]
  },
  {
   "cell_type": "markdown",
   "id": "0b8218ba-2b84-49e0-b8d1-0a509ba7c43f",
   "metadata": {},
   "source": [
    "**Шаг 13. Выведем города с общим количеством произведенной продукции и долей брака:**"
   ]
  },
  {
   "cell_type": "code",
   "execution_count": 113,
   "id": "674d9b53-b5fb-46e6-b4e6-a89d715d8827",
   "metadata": {},
   "outputs": [],
   "source": [
    "gr_df1 = result_df.groupby('город')[['количество_произведено', 'количество_брака']].sum().sort_values('количество_произведено')"
   ]
  },
  {
   "cell_type": "markdown",
   "id": "5fa680ea-053b-4faf-9d4c-a524d38e1655",
   "metadata": {},
   "source": [
    "Добавим также колонку с долей брака по каждому городу:"
   ]
  },
  {
   "cell_type": "code",
   "execution_count": 114,
   "id": "3bb10d65-90e0-4407-bb8f-cc23dcc50a92",
   "metadata": {},
   "outputs": [],
   "source": [
    "gr_df1['% брака'] = (100 * gr_df1['количество_брака']/gr_df1['количество_произведено']).round(2)"
   ]
  },
  {
   "cell_type": "code",
   "execution_count": 115,
   "id": "a5a73756-bf50-41bc-9b8c-9c82a5347550",
   "metadata": {},
   "outputs": [],
   "source": [
    "gr_df1 = gr_df1.reset_index()"
   ]
  },
  {
   "cell_type": "code",
   "execution_count": 116,
   "id": "2badfa0a-7427-4140-a352-37d45bf5ff56",
   "metadata": {},
   "outputs": [
    {
     "data": {
      "text/html": [
       "<div>\n",
       "<style scoped>\n",
       "    .dataframe tbody tr th:only-of-type {\n",
       "        vertical-align: middle;\n",
       "    }\n",
       "\n",
       "    .dataframe tbody tr th {\n",
       "        vertical-align: top;\n",
       "    }\n",
       "\n",
       "    .dataframe thead th {\n",
       "        text-align: right;\n",
       "    }\n",
       "</style>\n",
       "<table border=\"1\" class=\"dataframe\">\n",
       "  <thead>\n",
       "    <tr style=\"text-align: right;\">\n",
       "      <th></th>\n",
       "      <th>город</th>\n",
       "      <th>количество_произведено</th>\n",
       "      <th>количество_брака</th>\n",
       "      <th>% брака</th>\n",
       "    </tr>\n",
       "  </thead>\n",
       "  <tbody>\n",
       "    <tr>\n",
       "      <th>0</th>\n",
       "      <td>Челябинск</td>\n",
       "      <td>88559</td>\n",
       "      <td>3073</td>\n",
       "      <td>3.47</td>\n",
       "    </tr>\n",
       "    <tr>\n",
       "      <th>1</th>\n",
       "      <td>Новосибирск</td>\n",
       "      <td>186350</td>\n",
       "      <td>9436</td>\n",
       "      <td>5.06</td>\n",
       "    </tr>\n",
       "    <tr>\n",
       "      <th>2</th>\n",
       "      <td>Омск</td>\n",
       "      <td>194630</td>\n",
       "      <td>7992</td>\n",
       "      <td>4.11</td>\n",
       "    </tr>\n",
       "    <tr>\n",
       "      <th>3</th>\n",
       "      <td>Москва</td>\n",
       "      <td>213711</td>\n",
       "      <td>9845</td>\n",
       "      <td>4.61</td>\n",
       "    </tr>\n",
       "    <tr>\n",
       "      <th>4</th>\n",
       "      <td>Казань</td>\n",
       "      <td>288560</td>\n",
       "      <td>13636</td>\n",
       "      <td>4.73</td>\n",
       "    </tr>\n",
       "    <tr>\n",
       "      <th>5</th>\n",
       "      <td>Самара</td>\n",
       "      <td>332975</td>\n",
       "      <td>18074</td>\n",
       "      <td>5.43</td>\n",
       "    </tr>\n",
       "    <tr>\n",
       "      <th>6</th>\n",
       "      <td>Ростов-на-Дону</td>\n",
       "      <td>369857</td>\n",
       "      <td>14047</td>\n",
       "      <td>3.80</td>\n",
       "    </tr>\n",
       "    <tr>\n",
       "      <th>7</th>\n",
       "      <td>Екатеринбург</td>\n",
       "      <td>381566</td>\n",
       "      <td>14434</td>\n",
       "      <td>3.78</td>\n",
       "    </tr>\n",
       "    <tr>\n",
       "      <th>8</th>\n",
       "      <td>Санкт-Петербург</td>\n",
       "      <td>494236</td>\n",
       "      <td>23408</td>\n",
       "      <td>4.74</td>\n",
       "    </tr>\n",
       "    <tr>\n",
       "      <th>9</th>\n",
       "      <td>Нижний Новгород</td>\n",
       "      <td>566979</td>\n",
       "      <td>22899</td>\n",
       "      <td>4.04</td>\n",
       "    </tr>\n",
       "  </tbody>\n",
       "</table>\n",
       "</div>"
      ],
      "text/plain": [
       "             город  количество_произведено  количество_брака  % брака\n",
       "0        Челябинск                   88559              3073     3.47\n",
       "1      Новосибирск                  186350              9436     5.06\n",
       "2             Омск                  194630              7992     4.11\n",
       "3           Москва                  213711              9845     4.61\n",
       "4           Казань                  288560             13636     4.73\n",
       "5           Самара                  332975             18074     5.43\n",
       "6   Ростов-на-Дону                  369857             14047     3.80\n",
       "7     Екатеринбург                  381566             14434     3.78\n",
       "8  Санкт-Петербург                  494236             23408     4.74\n",
       "9  Нижний Новгород                  566979             22899     4.04"
      ]
     },
     "execution_count": 116,
     "metadata": {},
     "output_type": "execute_result"
    }
   ],
   "source": [
    "gr_df1"
   ]
  },
  {
   "cell_type": "markdown",
   "id": "ce9b1532-5481-4661-a9ad-f561af68abd6",
   "metadata": {},
   "source": [
    "Добавим визуализацию в виде столбчатой диаграммы (barh):"
   ]
  },
  {
   "cell_type": "code",
   "execution_count": 117,
   "id": "a81de3fd-3f5e-4199-8899-d5b4c08e5d21",
   "metadata": {},
   "outputs": [
    {
     "data": {
      "image/png": "[encoded data removed]",
      "text/plain": [
       "<Figure size 1300x600 with 1 Axes>"
      ]
     },
     "metadata": {},
     "output_type": "display_data"
    }
   ],
   "source": [
    "gr_df1 = gr_df1.sort_values('количество_произведено', ascending=True)\n",
    "plt.figure(figsize=(13, 6))\n",
    "ax1 = plt.barh(gr_df1['город'], gr_df1['количество_произведено'], color='lightblue', label='Произведено')\n",
    "ax2 = plt.barh(gr_df1['город'], gr_df1['количество_брака'], color='salmon', label='Брак')\n",
    "\n",
    "plt.bar_label(ax1, fontsize=9, padding=1)\n",
    "plt.bar_label(ax2, padding=3, fontsize=9)\n",
    "\n",
    "plt.xlabel('Количество продукции', fontsize=10)\n",
    "plt.title('Объём производства и брака по городам', fontsize=12, pad=10)\n",
    "plt.legend()\n",
    "plt.tight_layout()\n",
    "plt.show()"
   ]
  },
  {
   "cell_type": "markdown",
   "id": "a74bcff7-1682-4341-af86-3053e821c02e",
   "metadata": {},
   "source": [
    "Наибольшая доля брака среди всех городов: "
   ]
  },
  {
   "cell_type": "code",
   "execution_count": 118,
   "id": "523d1e09-23a8-4b56-a8ad-f1a0ac3cb1ba",
   "metadata": {},
   "outputs": [
    {
     "data": {
      "text/html": [
       "<div>\n",
       "<style scoped>\n",
       "    .dataframe tbody tr th:only-of-type {\n",
       "        vertical-align: middle;\n",
       "    }\n",
       "\n",
       "    .dataframe tbody tr th {\n",
       "        vertical-align: top;\n",
       "    }\n",
       "\n",
       "    .dataframe thead th {\n",
       "        text-align: right;\n",
       "    }\n",
       "</style>\n",
       "<table border=\"1\" class=\"dataframe\">\n",
       "  <thead>\n",
       "    <tr style=\"text-align: right;\">\n",
       "      <th></th>\n",
       "      <th>город</th>\n",
       "      <th>количество_произведено</th>\n",
       "      <th>количество_брака</th>\n",
       "      <th>% брака</th>\n",
       "    </tr>\n",
       "  </thead>\n",
       "  <tbody>\n",
       "    <tr>\n",
       "      <th>5</th>\n",
       "      <td>Самара</td>\n",
       "      <td>332975</td>\n",
       "      <td>18074</td>\n",
       "      <td>5.43</td>\n",
       "    </tr>\n",
       "  </tbody>\n",
       "</table>\n",
       "</div>"
      ],
      "text/plain": [
       "    город  количество_произведено  количество_брака  % брака\n",
       "5  Самара                  332975             18074     5.43"
      ]
     },
     "execution_count": 118,
     "metadata": {},
     "output_type": "execute_result"
    }
   ],
   "source": [
    "gr_df1[gr_df1['% брака'] == gr_df1['% брака'].max()]"
   ]
  },
  {
   "cell_type": "markdown",
   "id": "e9de991a-11b4-437b-b150-e926f60edd5d",
   "metadata": {},
   "source": [
    "Наименьшая доля брака среди всех городов: "
   ]
  },
  {
   "cell_type": "code",
   "execution_count": 119,
   "id": "b6f69381-6d32-4e40-81a4-48b5a29ddf6d",
   "metadata": {},
   "outputs": [
    {
     "data": {
      "text/html": [
       "<div>\n",
       "<style scoped>\n",
       "    .dataframe tbody tr th:only-of-type {\n",
       "        vertical-align: middle;\n",
       "    }\n",
       "\n",
       "    .dataframe tbody tr th {\n",
       "        vertical-align: top;\n",
       "    }\n",
       "\n",
       "    .dataframe thead th {\n",
       "        text-align: right;\n",
       "    }\n",
       "</style>\n",
       "<table border=\"1\" class=\"dataframe\">\n",
       "  <thead>\n",
       "    <tr style=\"text-align: right;\">\n",
       "      <th></th>\n",
       "      <th>город</th>\n",
       "      <th>количество_произведено</th>\n",
       "      <th>количество_брака</th>\n",
       "      <th>% брака</th>\n",
       "    </tr>\n",
       "  </thead>\n",
       "  <tbody>\n",
       "    <tr>\n",
       "      <th>0</th>\n",
       "      <td>Челябинск</td>\n",
       "      <td>88559</td>\n",
       "      <td>3073</td>\n",
       "      <td>3.47</td>\n",
       "    </tr>\n",
       "  </tbody>\n",
       "</table>\n",
       "</div>"
      ],
      "text/plain": [
       "       город  количество_произведено  количество_брака  % брака\n",
       "0  Челябинск                   88559              3073     3.47"
      ]
     },
     "execution_count": 119,
     "metadata": {},
     "output_type": "execute_result"
    }
   ],
   "source": [
    "gr_df1[gr_df1['% брака'] == gr_df1['% брака'].min()]"
   ]
  },
  {
   "cell_type": "markdown",
   "id": "7fa2412e-98ab-4cba-93fc-a93da0f8499c",
   "metadata": {},
   "source": [
    "Выводы по данной группировке (gr_df1):\n",
    "- Наибольшее количество продукции производится в Нижнем Новгороде, а наименьшее в Челябинске.\n",
    "- Наибольшее количество брака в долях от общего количества продукции в Самаре, а наименьшее в Челябинске."
   ]
  },
  {
   "cell_type": "markdown",
   "id": "31e407b1-b880-46ae-be83-65815e711cca",
   "metadata": {},
   "source": [
    "**Шаг 14. Посчитаем общее количество продукта в каждой категории и количество брака по всем цехам вместе взятым. Для удобства сбросим мультииндексы и отсортируем полученный список по убыванию количества продукции:**"
   ]
  },
  {
   "cell_type": "code",
   "execution_count": 120,
   "id": "a4d1f830-67ed-4e1d-ae7c-ee25b4b9be47",
   "metadata": {},
   "outputs": [],
   "source": [
    "gr_df2 = result_df.groupby('наименование_продукта').agg({\n",
    "    'количество_произведено': 'sum',\n",
    "    'количество_брака': 'sum'\n",
    "}).reset_index().sort_values('количество_произведено', ascending=False)"
   ]
  },
  {
   "cell_type": "markdown",
   "id": "f2f84fc8-d4ae-4d8a-af76-a0a3c97caa14",
   "metadata": {},
   "source": [
    "Добавим также колонку с долей брака по каждому продукту:"
   ]
  },
  {
   "cell_type": "code",
   "execution_count": 121,
   "id": "e2bc2272-e915-4bc0-832f-34a24f2441af",
   "metadata": {},
   "outputs": [],
   "source": [
    "gr_df2['% брака'] = (100 * gr_df2['количество_брака']/gr_df2['количество_произведено']).round(2)"
   ]
  },
  {
   "cell_type": "code",
   "execution_count": 122,
   "id": "e2f97978-c6de-411f-a3c8-87704ac72e60",
   "metadata": {},
   "outputs": [
    {
     "data": {
      "text/html": [
       "<div>\n",
       "<style scoped>\n",
       "    .dataframe tbody tr th:only-of-type {\n",
       "        vertical-align: middle;\n",
       "    }\n",
       "\n",
       "    .dataframe tbody tr th {\n",
       "        vertical-align: top;\n",
       "    }\n",
       "\n",
       "    .dataframe thead th {\n",
       "        text-align: right;\n",
       "    }\n",
       "</style>\n",
       "<table border=\"1\" class=\"dataframe\">\n",
       "  <thead>\n",
       "    <tr style=\"text-align: right;\">\n",
       "      <th></th>\n",
       "      <th>наименование_продукта</th>\n",
       "      <th>количество_произведено</th>\n",
       "      <th>количество_брака</th>\n",
       "      <th>% брака</th>\n",
       "    </tr>\n",
       "  </thead>\n",
       "  <tbody>\n",
       "    <tr>\n",
       "      <th>15</th>\n",
       "      <td>Продукт_23</td>\n",
       "      <td>150053</td>\n",
       "      <td>6658</td>\n",
       "      <td>4.44</td>\n",
       "    </tr>\n",
       "    <tr>\n",
       "      <th>0</th>\n",
       "      <td>Продукт_1</td>\n",
       "      <td>131223</td>\n",
       "      <td>4866</td>\n",
       "      <td>3.71</td>\n",
       "    </tr>\n",
       "    <tr>\n",
       "      <th>18</th>\n",
       "      <td>Продукт_26</td>\n",
       "      <td>125289</td>\n",
       "      <td>4983</td>\n",
       "      <td>3.98</td>\n",
       "    </tr>\n",
       "    <tr>\n",
       "      <th>26</th>\n",
       "      <td>Продукт_6</td>\n",
       "      <td>123641</td>\n",
       "      <td>5510</td>\n",
       "      <td>4.46</td>\n",
       "    </tr>\n",
       "    <tr>\n",
       "      <th>23</th>\n",
       "      <td>Продукт_30</td>\n",
       "      <td>121939</td>\n",
       "      <td>6241</td>\n",
       "      <td>5.12</td>\n",
       "    </tr>\n",
       "    <tr>\n",
       "      <th>17</th>\n",
       "      <td>Продукт_25</td>\n",
       "      <td>121287</td>\n",
       "      <td>4094</td>\n",
       "      <td>3.38</td>\n",
       "    </tr>\n",
       "    <tr>\n",
       "      <th>24</th>\n",
       "      <td>Продукт_4</td>\n",
       "      <td>119093</td>\n",
       "      <td>4869</td>\n",
       "      <td>4.09</td>\n",
       "    </tr>\n",
       "    <tr>\n",
       "      <th>10</th>\n",
       "      <td>Продукт_19</td>\n",
       "      <td>114890</td>\n",
       "      <td>4937</td>\n",
       "      <td>4.30</td>\n",
       "    </tr>\n",
       "    <tr>\n",
       "      <th>27</th>\n",
       "      <td>Продукт_7</td>\n",
       "      <td>113965</td>\n",
       "      <td>5283</td>\n",
       "      <td>4.64</td>\n",
       "    </tr>\n",
       "    <tr>\n",
       "      <th>9</th>\n",
       "      <td>Продукт_18</td>\n",
       "      <td>112262</td>\n",
       "      <td>5688</td>\n",
       "      <td>5.07</td>\n",
       "    </tr>\n",
       "    <tr>\n",
       "      <th>8</th>\n",
       "      <td>Продукт_17</td>\n",
       "      <td>109631</td>\n",
       "      <td>5657</td>\n",
       "      <td>5.16</td>\n",
       "    </tr>\n",
       "    <tr>\n",
       "      <th>22</th>\n",
       "      <td>Продукт_3</td>\n",
       "      <td>109406</td>\n",
       "      <td>4942</td>\n",
       "      <td>4.52</td>\n",
       "    </tr>\n",
       "    <tr>\n",
       "      <th>2</th>\n",
       "      <td>Продукт_11</td>\n",
       "      <td>108200</td>\n",
       "      <td>4436</td>\n",
       "      <td>4.10</td>\n",
       "    </tr>\n",
       "    <tr>\n",
       "      <th>11</th>\n",
       "      <td>Продукт_2</td>\n",
       "      <td>105134</td>\n",
       "      <td>4369</td>\n",
       "      <td>4.16</td>\n",
       "    </tr>\n",
       "    <tr>\n",
       "      <th>29</th>\n",
       "      <td>Продукт_9</td>\n",
       "      <td>103104</td>\n",
       "      <td>5036</td>\n",
       "      <td>4.88</td>\n",
       "    </tr>\n",
       "    <tr>\n",
       "      <th>21</th>\n",
       "      <td>Продукт_29</td>\n",
       "      <td>102781</td>\n",
       "      <td>4567</td>\n",
       "      <td>4.44</td>\n",
       "    </tr>\n",
       "    <tr>\n",
       "      <th>4</th>\n",
       "      <td>Продукт_13</td>\n",
       "      <td>102337</td>\n",
       "      <td>3843</td>\n",
       "      <td>3.76</td>\n",
       "    </tr>\n",
       "    <tr>\n",
       "      <th>3</th>\n",
       "      <td>Продукт_12</td>\n",
       "      <td>102319</td>\n",
       "      <td>3880</td>\n",
       "      <td>3.79</td>\n",
       "    </tr>\n",
       "    <tr>\n",
       "      <th>19</th>\n",
       "      <td>Продукт_27</td>\n",
       "      <td>94282</td>\n",
       "      <td>4479</td>\n",
       "      <td>4.75</td>\n",
       "    </tr>\n",
       "    <tr>\n",
       "      <th>28</th>\n",
       "      <td>Продукт_8</td>\n",
       "      <td>94240</td>\n",
       "      <td>4828</td>\n",
       "      <td>5.12</td>\n",
       "    </tr>\n",
       "    <tr>\n",
       "      <th>5</th>\n",
       "      <td>Продукт_14</td>\n",
       "      <td>94202</td>\n",
       "      <td>4451</td>\n",
       "      <td>4.72</td>\n",
       "    </tr>\n",
       "    <tr>\n",
       "      <th>1</th>\n",
       "      <td>Продукт_10</td>\n",
       "      <td>92186</td>\n",
       "      <td>3683</td>\n",
       "      <td>4.00</td>\n",
       "    </tr>\n",
       "    <tr>\n",
       "      <th>12</th>\n",
       "      <td>Продукт_20</td>\n",
       "      <td>89278</td>\n",
       "      <td>3987</td>\n",
       "      <td>4.47</td>\n",
       "    </tr>\n",
       "    <tr>\n",
       "      <th>13</th>\n",
       "      <td>Продукт_21</td>\n",
       "      <td>88412</td>\n",
       "      <td>4338</td>\n",
       "      <td>4.91</td>\n",
       "    </tr>\n",
       "    <tr>\n",
       "      <th>14</th>\n",
       "      <td>Продукт_22</td>\n",
       "      <td>84822</td>\n",
       "      <td>3002</td>\n",
       "      <td>3.54</td>\n",
       "    </tr>\n",
       "    <tr>\n",
       "      <th>16</th>\n",
       "      <td>Продукт_24</td>\n",
       "      <td>82325</td>\n",
       "      <td>5261</td>\n",
       "      <td>6.39</td>\n",
       "    </tr>\n",
       "    <tr>\n",
       "      <th>6</th>\n",
       "      <td>Продукт_15</td>\n",
       "      <td>81745</td>\n",
       "      <td>3205</td>\n",
       "      <td>3.92</td>\n",
       "    </tr>\n",
       "    <tr>\n",
       "      <th>7</th>\n",
       "      <td>Продукт_16</td>\n",
       "      <td>81410</td>\n",
       "      <td>3260</td>\n",
       "      <td>4.00</td>\n",
       "    </tr>\n",
       "    <tr>\n",
       "      <th>25</th>\n",
       "      <td>Продукт_5</td>\n",
       "      <td>79117</td>\n",
       "      <td>3487</td>\n",
       "      <td>4.41</td>\n",
       "    </tr>\n",
       "    <tr>\n",
       "      <th>20</th>\n",
       "      <td>Продукт_28</td>\n",
       "      <td>78850</td>\n",
       "      <td>3004</td>\n",
       "      <td>3.81</td>\n",
       "    </tr>\n",
       "  </tbody>\n",
       "</table>\n",
       "</div>"
      ],
      "text/plain": [
       "   наименование_продукта  количество_произведено  количество_брака  % брака\n",
       "15            Продукт_23                  150053              6658     4.44\n",
       "0              Продукт_1                  131223              4866     3.71\n",
       "18            Продукт_26                  125289              4983     3.98\n",
       "26             Продукт_6                  123641              5510     4.46\n",
       "23            Продукт_30                  121939              6241     5.12\n",
       "17            Продукт_25                  121287              4094     3.38\n",
       "24             Продукт_4                  119093              4869     4.09\n",
       "10            Продукт_19                  114890              4937     4.30\n",
       "27             Продукт_7                  113965              5283     4.64\n",
       "9             Продукт_18                  112262              5688     5.07\n",
       "8             Продукт_17                  109631              5657     5.16\n",
       "22             Продукт_3                  109406              4942     4.52\n",
       "2             Продукт_11                  108200              4436     4.10\n",
       "11             Продукт_2                  105134              4369     4.16\n",
       "29             Продукт_9                  103104              5036     4.88\n",
       "21            Продукт_29                  102781              4567     4.44\n",
       "4             Продукт_13                  102337              3843     3.76\n",
       "3             Продукт_12                  102319              3880     3.79\n",
       "19            Продукт_27                   94282              4479     4.75\n",
       "28             Продукт_8                   94240              4828     5.12\n",
       "5             Продукт_14                   94202              4451     4.72\n",
       "1             Продукт_10                   92186              3683     4.00\n",
       "12            Продукт_20                   89278              3987     4.47\n",
       "13            Продукт_21                   88412              4338     4.91\n",
       "14            Продукт_22                   84822              3002     3.54\n",
       "16            Продукт_24                   82325              5261     6.39\n",
       "6             Продукт_15                   81745              3205     3.92\n",
       "7             Продукт_16                   81410              3260     4.00\n",
       "25             Продукт_5                   79117              3487     4.41\n",
       "20            Продукт_28                   78850              3004     3.81"
      ]
     },
     "execution_count": 122,
     "metadata": {},
     "output_type": "execute_result"
    }
   ],
   "source": [
    "gr_df2"
   ]
  },
  {
   "cell_type": "markdown",
   "id": "27b5065b-8819-4b9d-8c3b-4219a897c7f2",
   "metadata": {},
   "source": [
    "Добавим визуализацию в виде столбчатой диаграммы (barh):"
   ]
  },
  {
   "cell_type": "code",
   "execution_count": 123,
   "id": "b93fe44e-a6ff-479f-908e-e0f47d39c3e2",
   "metadata": {},
   "outputs": [
    {
     "data": {
      "image/png": "[encoded data removed]",
      "text/plain": [
       "<Figure size 1300x1000 with 1 Axes>"
      ]
     },
     "metadata": {},
     "output_type": "display_data"
    }
   ],
   "source": [
    "plt.figure(figsize=(13, 10))\n",
    "ax1 = plt.barh(gr_df2['наименование_продукта'], gr_df2['количество_произведено'], color='lightblue')\n",
    "ax2 = plt.barh(gr_df2['наименование_продукта'], gr_df2['количество_брака'], color='salmon')\n",
    "plt.bar_label(ax1, padding=3, fontsize=9)\n",
    "plt.bar_label(ax2, labels=[f'{x}%' for x in gr_df2['% брака']], padding=3, fontsize=9)\n",
    "\n",
    "plt.xlabel('Количество продукции', fontsize=10)\n",
    "plt.title('Объем производства и процент брака по продуктам', pad=10, fontsize=12)\n",
    "plt.grid(axis='x', alpha=0.3)\n",
    "plt.gca().invert_yaxis()  \n",
    "plt.tight_layout()\n",
    "plt.show()"
   ]
  },
  {
   "cell_type": "markdown",
   "id": "1e927364-d5f5-4919-b80c-20643e8ced10",
   "metadata": {},
   "source": [
    "Наибольшая доля брака среди всех продуктов: "
   ]
  },
  {
   "cell_type": "code",
   "execution_count": 124,
   "id": "7941112f-fdbd-401a-a446-8e45ac329d34",
   "metadata": {},
   "outputs": [
    {
     "data": {
      "text/html": [
       "<div>\n",
       "<style scoped>\n",
       "    .dataframe tbody tr th:only-of-type {\n",
       "        vertical-align: middle;\n",
       "    }\n",
       "\n",
       "    .dataframe tbody tr th {\n",
       "        vertical-align: top;\n",
       "    }\n",
       "\n",
       "    .dataframe thead th {\n",
       "        text-align: right;\n",
       "    }\n",
       "</style>\n",
       "<table border=\"1\" class=\"dataframe\">\n",
       "  <thead>\n",
       "    <tr style=\"text-align: right;\">\n",
       "      <th></th>\n",
       "      <th>наименование_продукта</th>\n",
       "      <th>количество_произведено</th>\n",
       "      <th>количество_брака</th>\n",
       "      <th>% брака</th>\n",
       "    </tr>\n",
       "  </thead>\n",
       "  <tbody>\n",
       "    <tr>\n",
       "      <th>16</th>\n",
       "      <td>Продукт_24</td>\n",
       "      <td>82325</td>\n",
       "      <td>5261</td>\n",
       "      <td>6.39</td>\n",
       "    </tr>\n",
       "  </tbody>\n",
       "</table>\n",
       "</div>"
      ],
      "text/plain": [
       "   наименование_продукта  количество_произведено  количество_брака  % брака\n",
       "16            Продукт_24                   82325              5261     6.39"
      ]
     },
     "execution_count": 124,
     "metadata": {},
     "output_type": "execute_result"
    }
   ],
   "source": [
    "gr_df2[gr_df2['% брака'] == gr_df2['% брака'].max()]"
   ]
  },
  {
   "cell_type": "markdown",
   "id": "ef2c378d-50d1-483f-a2a2-cfcdb42ceb87",
   "metadata": {},
   "source": [
    "Наименьшая доля брака среди всех продуктов: "
   ]
  },
  {
   "cell_type": "code",
   "execution_count": 125,
   "id": "396bf686-6666-455f-b700-5d729d319701",
   "metadata": {},
   "outputs": [
    {
     "data": {
      "text/html": [
       "<div>\n",
       "<style scoped>\n",
       "    .dataframe tbody tr th:only-of-type {\n",
       "        vertical-align: middle;\n",
       "    }\n",
       "\n",
       "    .dataframe tbody tr th {\n",
       "        vertical-align: top;\n",
       "    }\n",
       "\n",
       "    .dataframe thead th {\n",
       "        text-align: right;\n",
       "    }\n",
       "</style>\n",
       "<table border=\"1\" class=\"dataframe\">\n",
       "  <thead>\n",
       "    <tr style=\"text-align: right;\">\n",
       "      <th></th>\n",
       "      <th>наименование_продукта</th>\n",
       "      <th>количество_произведено</th>\n",
       "      <th>количество_брака</th>\n",
       "      <th>% брака</th>\n",
       "    </tr>\n",
       "  </thead>\n",
       "  <tbody>\n",
       "    <tr>\n",
       "      <th>17</th>\n",
       "      <td>Продукт_25</td>\n",
       "      <td>121287</td>\n",
       "      <td>4094</td>\n",
       "      <td>3.38</td>\n",
       "    </tr>\n",
       "  </tbody>\n",
       "</table>\n",
       "</div>"
      ],
      "text/plain": [
       "   наименование_продукта  количество_произведено  количество_брака  % брака\n",
       "17            Продукт_25                  121287              4094     3.38"
      ]
     },
     "execution_count": 125,
     "metadata": {},
     "output_type": "execute_result"
    }
   ],
   "source": [
    "gr_df2[gr_df2['% брака'] == gr_df2['% брака'].min()]"
   ]
  },
  {
   "cell_type": "markdown",
   "id": "690af48f-ef62-4840-9c07-e6ab58e18ccd",
   "metadata": {},
   "source": [
    "Выводы по данной группировке (gr_df2):\n",
    "- Наибольшее количество производимого продукта у - Продукт_23, а наименьшее у - Продукт_28.\n",
    "- Наибольшая доля брака у - Продукт_24, а наименьшая у - Продукт_25."
   ]
  },
  {
   "cell_type": "markdown",
   "id": "bd24ca45-43be-4a9d-b135-b87ff62c6aa3",
   "metadata": {},
   "source": [
    "**Шаг 15. Посчитаем общее количество произведённого продукта, брака и долю брака по каждому цеху. Для удобства сбросим мультииндексы и отсортируем полученный список по убыванию количества продукции:**"
   ]
  },
  {
   "cell_type": "code",
   "execution_count": 126,
   "id": "73f25ed0-9f8d-40eb-8254-e32eb4093d97",
   "metadata": {},
   "outputs": [],
   "source": [
    "gr_df3 = result_df.groupby('id_цеха').agg({\n",
    "    'количество_произведено': 'sum',\n",
    "    'количество_брака': 'sum'\n",
    "}).reset_index().sort_values('количество_произведено', ascending=False)"
   ]
  },
  {
   "cell_type": "markdown",
   "id": "bb1841d1-9f44-4fda-a08f-4bbf0810e4a7",
   "metadata": {},
   "source": [
    "Добавим также колонку с долей брака по каждому цеху:"
   ]
  },
  {
   "cell_type": "code",
   "execution_count": 127,
   "id": "4578e2bc-ae1b-4b2a-af8b-0287de2f6ee5",
   "metadata": {},
   "outputs": [],
   "source": [
    "gr_df3['% брака'] = (100 * gr_df3['количество_брака']/gr_df3['количество_произведено']).round(2)"
   ]
  },
  {
   "cell_type": "code",
   "execution_count": 128,
   "id": "88db707c-f7d1-47d6-8439-adeb2c3634aa",
   "metadata": {},
   "outputs": [
    {
     "data": {
      "text/html": [
       "<div>\n",
       "<style scoped>\n",
       "    .dataframe tbody tr th:only-of-type {\n",
       "        vertical-align: middle;\n",
       "    }\n",
       "\n",
       "    .dataframe tbody tr th {\n",
       "        vertical-align: top;\n",
       "    }\n",
       "\n",
       "    .dataframe thead th {\n",
       "        text-align: right;\n",
       "    }\n",
       "</style>\n",
       "<table border=\"1\" class=\"dataframe\">\n",
       "  <thead>\n",
       "    <tr style=\"text-align: right;\">\n",
       "      <th></th>\n",
       "      <th>id_цеха</th>\n",
       "      <th>количество_произведено</th>\n",
       "      <th>количество_брака</th>\n",
       "      <th>% брака</th>\n",
       "    </tr>\n",
       "  </thead>\n",
       "  <tbody>\n",
       "    <tr>\n",
       "      <th>28</th>\n",
       "      <td>134</td>\n",
       "      <td>98504</td>\n",
       "      <td>4096</td>\n",
       "      <td>4.16</td>\n",
       "    </tr>\n",
       "    <tr>\n",
       "      <th>42</th>\n",
       "      <td>149</td>\n",
       "      <td>97732</td>\n",
       "      <td>4712</td>\n",
       "      <td>4.82</td>\n",
       "    </tr>\n",
       "    <tr>\n",
       "      <th>0</th>\n",
       "      <td>100</td>\n",
       "      <td>95989</td>\n",
       "      <td>3456</td>\n",
       "      <td>3.60</td>\n",
       "    </tr>\n",
       "    <tr>\n",
       "      <th>41</th>\n",
       "      <td>148</td>\n",
       "      <td>95032</td>\n",
       "      <td>3272</td>\n",
       "      <td>3.44</td>\n",
       "    </tr>\n",
       "    <tr>\n",
       "      <th>31</th>\n",
       "      <td>137</td>\n",
       "      <td>94740</td>\n",
       "      <td>3665</td>\n",
       "      <td>3.87</td>\n",
       "    </tr>\n",
       "    <tr>\n",
       "      <th>3</th>\n",
       "      <td>103</td>\n",
       "      <td>94272</td>\n",
       "      <td>4859</td>\n",
       "      <td>5.15</td>\n",
       "    </tr>\n",
       "    <tr>\n",
       "      <th>4</th>\n",
       "      <td>104</td>\n",
       "      <td>92100</td>\n",
       "      <td>2835</td>\n",
       "      <td>3.08</td>\n",
       "    </tr>\n",
       "    <tr>\n",
       "      <th>40</th>\n",
       "      <td>147</td>\n",
       "      <td>91896</td>\n",
       "      <td>2022</td>\n",
       "      <td>2.20</td>\n",
       "    </tr>\n",
       "    <tr>\n",
       "      <th>27</th>\n",
       "      <td>133</td>\n",
       "      <td>88559</td>\n",
       "      <td>3073</td>\n",
       "      <td>3.47</td>\n",
       "    </tr>\n",
       "    <tr>\n",
       "      <th>23</th>\n",
       "      <td>128</td>\n",
       "      <td>87892</td>\n",
       "      <td>4663</td>\n",
       "      <td>5.31</td>\n",
       "    </tr>\n",
       "    <tr>\n",
       "      <th>26</th>\n",
       "      <td>132</td>\n",
       "      <td>81388</td>\n",
       "      <td>2770</td>\n",
       "      <td>3.40</td>\n",
       "    </tr>\n",
       "    <tr>\n",
       "      <th>17</th>\n",
       "      <td>121</td>\n",
       "      <td>80611</td>\n",
       "      <td>3842</td>\n",
       "      <td>4.77</td>\n",
       "    </tr>\n",
       "    <tr>\n",
       "      <th>32</th>\n",
       "      <td>138</td>\n",
       "      <td>79915</td>\n",
       "      <td>3392</td>\n",
       "      <td>4.24</td>\n",
       "    </tr>\n",
       "    <tr>\n",
       "      <th>29</th>\n",
       "      <td>135</td>\n",
       "      <td>78621</td>\n",
       "      <td>4206</td>\n",
       "      <td>5.35</td>\n",
       "    </tr>\n",
       "    <tr>\n",
       "      <th>12</th>\n",
       "      <td>114</td>\n",
       "      <td>78448</td>\n",
       "      <td>3438</td>\n",
       "      <td>4.38</td>\n",
       "    </tr>\n",
       "    <tr>\n",
       "      <th>8</th>\n",
       "      <td>109</td>\n",
       "      <td>77952</td>\n",
       "      <td>3365</td>\n",
       "      <td>4.32</td>\n",
       "    </tr>\n",
       "    <tr>\n",
       "      <th>13</th>\n",
       "      <td>116</td>\n",
       "      <td>76918</td>\n",
       "      <td>2056</td>\n",
       "      <td>2.67</td>\n",
       "    </tr>\n",
       "    <tr>\n",
       "      <th>30</th>\n",
       "      <td>136</td>\n",
       "      <td>76010</td>\n",
       "      <td>5308</td>\n",
       "      <td>6.98</td>\n",
       "    </tr>\n",
       "    <tr>\n",
       "      <th>5</th>\n",
       "      <td>105</td>\n",
       "      <td>75244</td>\n",
       "      <td>2390</td>\n",
       "      <td>3.18</td>\n",
       "    </tr>\n",
       "    <tr>\n",
       "      <th>7</th>\n",
       "      <td>107</td>\n",
       "      <td>75146</td>\n",
       "      <td>2119</td>\n",
       "      <td>2.82</td>\n",
       "    </tr>\n",
       "    <tr>\n",
       "      <th>20</th>\n",
       "      <td>125</td>\n",
       "      <td>74729</td>\n",
       "      <td>1945</td>\n",
       "      <td>2.60</td>\n",
       "    </tr>\n",
       "    <tr>\n",
       "      <th>39</th>\n",
       "      <td>146</td>\n",
       "      <td>74043</td>\n",
       "      <td>2305</td>\n",
       "      <td>3.11</td>\n",
       "    </tr>\n",
       "    <tr>\n",
       "      <th>33</th>\n",
       "      <td>140</td>\n",
       "      <td>71281</td>\n",
       "      <td>4153</td>\n",
       "      <td>5.83</td>\n",
       "    </tr>\n",
       "    <tr>\n",
       "      <th>37</th>\n",
       "      <td>144</td>\n",
       "      <td>70537</td>\n",
       "      <td>5773</td>\n",
       "      <td>8.18</td>\n",
       "    </tr>\n",
       "    <tr>\n",
       "      <th>38</th>\n",
       "      <td>145</td>\n",
       "      <td>68895</td>\n",
       "      <td>2102</td>\n",
       "      <td>3.05</td>\n",
       "    </tr>\n",
       "    <tr>\n",
       "      <th>22</th>\n",
       "      <td>127</td>\n",
       "      <td>68393</td>\n",
       "      <td>3878</td>\n",
       "      <td>5.67</td>\n",
       "    </tr>\n",
       "    <tr>\n",
       "      <th>10</th>\n",
       "      <td>112</td>\n",
       "      <td>67804</td>\n",
       "      <td>2945</td>\n",
       "      <td>4.34</td>\n",
       "    </tr>\n",
       "    <tr>\n",
       "      <th>18</th>\n",
       "      <td>122</td>\n",
       "      <td>67432</td>\n",
       "      <td>2732</td>\n",
       "      <td>4.05</td>\n",
       "    </tr>\n",
       "    <tr>\n",
       "      <th>24</th>\n",
       "      <td>129</td>\n",
       "      <td>66131</td>\n",
       "      <td>4394</td>\n",
       "      <td>6.64</td>\n",
       "    </tr>\n",
       "    <tr>\n",
       "      <th>6</th>\n",
       "      <td>106</td>\n",
       "      <td>66111</td>\n",
       "      <td>2734</td>\n",
       "      <td>4.14</td>\n",
       "    </tr>\n",
       "    <tr>\n",
       "      <th>36</th>\n",
       "      <td>143</td>\n",
       "      <td>65868</td>\n",
       "      <td>3551</td>\n",
       "      <td>5.39</td>\n",
       "    </tr>\n",
       "    <tr>\n",
       "      <th>11</th>\n",
       "      <td>113</td>\n",
       "      <td>60234</td>\n",
       "      <td>2104</td>\n",
       "      <td>3.49</td>\n",
       "    </tr>\n",
       "    <tr>\n",
       "      <th>2</th>\n",
       "      <td>102</td>\n",
       "      <td>58303</td>\n",
       "      <td>3158</td>\n",
       "      <td>5.42</td>\n",
       "    </tr>\n",
       "    <tr>\n",
       "      <th>16</th>\n",
       "      <td>120</td>\n",
       "      <td>56396</td>\n",
       "      <td>1798</td>\n",
       "      <td>3.19</td>\n",
       "    </tr>\n",
       "    <tr>\n",
       "      <th>19</th>\n",
       "      <td>123</td>\n",
       "      <td>56066</td>\n",
       "      <td>1745</td>\n",
       "      <td>3.11</td>\n",
       "    </tr>\n",
       "    <tr>\n",
       "      <th>34</th>\n",
       "      <td>141</td>\n",
       "      <td>54205</td>\n",
       "      <td>1883</td>\n",
       "      <td>3.47</td>\n",
       "    </tr>\n",
       "    <tr>\n",
       "      <th>9</th>\n",
       "      <td>111</td>\n",
       "      <td>52492</td>\n",
       "      <td>2990</td>\n",
       "      <td>5.70</td>\n",
       "    </tr>\n",
       "    <tr>\n",
       "      <th>35</th>\n",
       "      <td>142</td>\n",
       "      <td>52470</td>\n",
       "      <td>3676</td>\n",
       "      <td>7.01</td>\n",
       "    </tr>\n",
       "    <tr>\n",
       "      <th>25</th>\n",
       "      <td>131</td>\n",
       "      <td>51546</td>\n",
       "      <td>3887</td>\n",
       "      <td>7.54</td>\n",
       "    </tr>\n",
       "    <tr>\n",
       "      <th>21</th>\n",
       "      <td>126</td>\n",
       "      <td>51357</td>\n",
       "      <td>1395</td>\n",
       "      <td>2.72</td>\n",
       "    </tr>\n",
       "    <tr>\n",
       "      <th>14</th>\n",
       "      <td>117</td>\n",
       "      <td>50615</td>\n",
       "      <td>3937</td>\n",
       "      <td>7.78</td>\n",
       "    </tr>\n",
       "    <tr>\n",
       "      <th>1</th>\n",
       "      <td>101</td>\n",
       "      <td>47867</td>\n",
       "      <td>1817</td>\n",
       "      <td>3.80</td>\n",
       "    </tr>\n",
       "    <tr>\n",
       "      <th>15</th>\n",
       "      <td>118</td>\n",
       "      <td>47679</td>\n",
       "      <td>2403</td>\n",
       "      <td>5.04</td>\n",
       "    </tr>\n",
       "  </tbody>\n",
       "</table>\n",
       "</div>"
      ],
      "text/plain": [
       "    id_цеха  количество_произведено  количество_брака  % брака\n",
       "28      134                   98504              4096     4.16\n",
       "42      149                   97732              4712     4.82\n",
       "0       100                   95989              3456     3.60\n",
       "41      148                   95032              3272     3.44\n",
       "31      137                   94740              3665     3.87\n",
       "3       103                   94272              4859     5.15\n",
       "4       104                   92100              2835     3.08\n",
       "40      147                   91896              2022     2.20\n",
       "27      133                   88559              3073     3.47\n",
       "23      128                   87892              4663     5.31\n",
       "26      132                   81388              2770     3.40\n",
       "17      121                   80611              3842     4.77\n",
       "32      138                   79915              3392     4.24\n",
       "29      135                   78621              4206     5.35\n",
       "12      114                   78448              3438     4.38\n",
       "8       109                   77952              3365     4.32\n",
       "13      116                   76918              2056     2.67\n",
       "30      136                   76010              5308     6.98\n",
       "5       105                   75244              2390     3.18\n",
       "7       107                   75146              2119     2.82\n",
       "20      125                   74729              1945     2.60\n",
       "39      146                   74043              2305     3.11\n",
       "33      140                   71281              4153     5.83\n",
       "37      144                   70537              5773     8.18\n",
       "38      145                   68895              2102     3.05\n",
       "22      127                   68393              3878     5.67\n",
       "10      112                   67804              2945     4.34\n",
       "18      122                   67432              2732     4.05\n",
       "24      129                   66131              4394     6.64\n",
       "6       106                   66111              2734     4.14\n",
       "36      143                   65868              3551     5.39\n",
       "11      113                   60234              2104     3.49\n",
       "2       102                   58303              3158     5.42\n",
       "16      120                   56396              1798     3.19\n",
       "19      123                   56066              1745     3.11\n",
       "34      141                   54205              1883     3.47\n",
       "9       111                   52492              2990     5.70\n",
       "35      142                   52470              3676     7.01\n",
       "25      131                   51546              3887     7.54\n",
       "21      126                   51357              1395     2.72\n",
       "14      117                   50615              3937     7.78\n",
       "1       101                   47867              1817     3.80\n",
       "15      118                   47679              2403     5.04"
      ]
     },
     "execution_count": 128,
     "metadata": {},
     "output_type": "execute_result"
    }
   ],
   "source": [
    "gr_df3"
   ]
  },
  {
   "cell_type": "markdown",
   "id": "be560cc1-1a66-4d8a-9d6c-bf214f20a106",
   "metadata": {},
   "source": [
    "Визуализируем результаты в виде тепловой карты. Отсортируем цеха в порядке возрастания процента брака и выведем результаты."
   ]
  },
  {
   "cell_type": "code",
   "execution_count": 129,
   "id": "62dbdd2c-6c40-46bc-ab0c-f0c47c8bd2ad",
   "metadata": {},
   "outputs": [
    {
     "data": {
      "image/png": "[encoded data removed]",
      "text/plain": [
       "<Figure size 1300x1100 with 2 Axes>"
      ]
     },
     "metadata": {},
     "output_type": "display_data"
    }
   ],
   "source": [
    "plt.figure(figsize=(13, 11))\n",
    "sns.heatmap(gr_df3.set_index('id_цеха')[['% брака']].sort_values('% брака'),\n",
    "           annot=True, fmt='.2f', cmap='YlOrRd', linewidths=0.5)\n",
    "plt.title('Процент брака по цехам', pad=10, fontsize=12)\n",
    "plt.tight_layout()\n",
    "plt.show()"
   ]
  },
  {
   "cell_type": "markdown",
   "id": "d5d9aef1-6751-4498-b7b6-3b2163453c26",
   "metadata": {},
   "source": [
    "Наибольшая доля брака среди всех цехов: "
   ]
  },
  {
   "cell_type": "code",
   "execution_count": 130,
   "id": "1b25ecb8-7453-4408-8f00-88f62384bd53",
   "metadata": {},
   "outputs": [
    {
     "data": {
      "text/html": [
       "<div>\n",
       "<style scoped>\n",
       "    .dataframe tbody tr th:only-of-type {\n",
       "        vertical-align: middle;\n",
       "    }\n",
       "\n",
       "    .dataframe tbody tr th {\n",
       "        vertical-align: top;\n",
       "    }\n",
       "\n",
       "    .dataframe thead th {\n",
       "        text-align: right;\n",
       "    }\n",
       "</style>\n",
       "<table border=\"1\" class=\"dataframe\">\n",
       "  <thead>\n",
       "    <tr style=\"text-align: right;\">\n",
       "      <th></th>\n",
       "      <th>id_цеха</th>\n",
       "      <th>количество_произведено</th>\n",
       "      <th>количество_брака</th>\n",
       "      <th>% брака</th>\n",
       "    </tr>\n",
       "  </thead>\n",
       "  <tbody>\n",
       "    <tr>\n",
       "      <th>37</th>\n",
       "      <td>144</td>\n",
       "      <td>70537</td>\n",
       "      <td>5773</td>\n",
       "      <td>8.18</td>\n",
       "    </tr>\n",
       "  </tbody>\n",
       "</table>\n",
       "</div>"
      ],
      "text/plain": [
       "    id_цеха  количество_произведено  количество_брака  % брака\n",
       "37      144                   70537              5773     8.18"
      ]
     },
     "execution_count": 130,
     "metadata": {},
     "output_type": "execute_result"
    }
   ],
   "source": [
    "gr_df3[gr_df3['% брака'] == gr_df3['% брака'].max()]"
   ]
  },
  {
   "cell_type": "markdown",
   "id": "034c4eef-766e-43c1-87e5-7699cfeb8f20",
   "metadata": {},
   "source": [
    "Наименьшая доля брака среди всех цехов: "
   ]
  },
  {
   "cell_type": "code",
   "execution_count": 131,
   "id": "341ed426-6a55-4c2d-8964-ecc5f1b802b2",
   "metadata": {},
   "outputs": [
    {
     "data": {
      "text/html": [
       "<div>\n",
       "<style scoped>\n",
       "    .dataframe tbody tr th:only-of-type {\n",
       "        vertical-align: middle;\n",
       "    }\n",
       "\n",
       "    .dataframe tbody tr th {\n",
       "        vertical-align: top;\n",
       "    }\n",
       "\n",
       "    .dataframe thead th {\n",
       "        text-align: right;\n",
       "    }\n",
       "</style>\n",
       "<table border=\"1\" class=\"dataframe\">\n",
       "  <thead>\n",
       "    <tr style=\"text-align: right;\">\n",
       "      <th></th>\n",
       "      <th>id_цеха</th>\n",
       "      <th>количество_произведено</th>\n",
       "      <th>количество_брака</th>\n",
       "      <th>% брака</th>\n",
       "    </tr>\n",
       "  </thead>\n",
       "  <tbody>\n",
       "    <tr>\n",
       "      <th>40</th>\n",
       "      <td>147</td>\n",
       "      <td>91896</td>\n",
       "      <td>2022</td>\n",
       "      <td>2.2</td>\n",
       "    </tr>\n",
       "  </tbody>\n",
       "</table>\n",
       "</div>"
      ],
      "text/plain": [
       "    id_цеха  количество_произведено  количество_брака  % брака\n",
       "40      147                   91896              2022      2.2"
      ]
     },
     "execution_count": 131,
     "metadata": {},
     "output_type": "execute_result"
    }
   ],
   "source": [
    "gr_df3[gr_df3['% брака'] == gr_df3['% брака'].min()]"
   ]
  },
  {
   "cell_type": "markdown",
   "id": "9ce491ae-bbb7-42bc-bd10-60697c7672de",
   "metadata": {},
   "source": [
    "Выводы по данной группировке (gr_df3):\n",
    "- Наибольшее количество продукта произведено в цехе 134, а наименьшее в цехе 118.\n",
    "- Наибольшая доля брака у цеха 144, а наименьшая у цеха 147."
   ]
  },
  {
   "cell_type": "markdown",
   "id": "76dc61e3-3a84-4a3d-a38f-610fa4ce04c8",
   "metadata": {},
   "source": [
    "**Шаг 16. Корреляционный анализ:**"
   ]
  },
  {
   "cell_type": "code",
   "execution_count": 132,
   "id": "accbc750-8a96-4e49-bfba-c68b35045e33",
   "metadata": {},
   "outputs": [],
   "source": [
    "corr_matrix = result_df[['количество_сотрудников', \n",
    "                'площадь_зала', \n",
    "                'температура_зала', \n",
    "                'количество_произведено', \n",
    "                'количество_брака']].corr()"
   ]
  },
  {
   "cell_type": "code",
   "execution_count": 133,
   "id": "6d4a8522-7223-42e5-b4fb-30ba5471db08",
   "metadata": {},
   "outputs": [
    {
     "data": {
      "text/html": [
       "<div>\n",
       "<style scoped>\n",
       "    .dataframe tbody tr th:only-of-type {\n",
       "        vertical-align: middle;\n",
       "    }\n",
       "\n",
       "    .dataframe tbody tr th {\n",
       "        vertical-align: top;\n",
       "    }\n",
       "\n",
       "    .dataframe thead th {\n",
       "        text-align: right;\n",
       "    }\n",
       "</style>\n",
       "<table border=\"1\" class=\"dataframe\">\n",
       "  <thead>\n",
       "    <tr style=\"text-align: right;\">\n",
       "      <th></th>\n",
       "      <th>количество_сотрудников</th>\n",
       "      <th>площадь_зала</th>\n",
       "      <th>температура_зала</th>\n",
       "      <th>количество_произведено</th>\n",
       "      <th>количество_брака</th>\n",
       "    </tr>\n",
       "  </thead>\n",
       "  <tbody>\n",
       "    <tr>\n",
       "      <th>количество_сотрудников</th>\n",
       "      <td>1.000000</td>\n",
       "      <td>0.001628</td>\n",
       "      <td>0.064015</td>\n",
       "      <td>-0.023894</td>\n",
       "      <td>0.014704</td>\n",
       "    </tr>\n",
       "    <tr>\n",
       "      <th>площадь_зала</th>\n",
       "      <td>0.001628</td>\n",
       "      <td>1.000000</td>\n",
       "      <td>-0.174884</td>\n",
       "      <td>-0.022393</td>\n",
       "      <td>-0.045526</td>\n",
       "    </tr>\n",
       "    <tr>\n",
       "      <th>температура_зала</th>\n",
       "      <td>0.064015</td>\n",
       "      <td>-0.174884</td>\n",
       "      <td>1.000000</td>\n",
       "      <td>-0.026006</td>\n",
       "      <td>0.348446</td>\n",
       "    </tr>\n",
       "    <tr>\n",
       "      <th>количество_произведено</th>\n",
       "      <td>-0.023894</td>\n",
       "      <td>-0.022393</td>\n",
       "      <td>-0.026006</td>\n",
       "      <td>1.000000</td>\n",
       "      <td>0.325499</td>\n",
       "    </tr>\n",
       "    <tr>\n",
       "      <th>количество_брака</th>\n",
       "      <td>0.014704</td>\n",
       "      <td>-0.045526</td>\n",
       "      <td>0.348446</td>\n",
       "      <td>0.325499</td>\n",
       "      <td>1.000000</td>\n",
       "    </tr>\n",
       "  </tbody>\n",
       "</table>\n",
       "</div>"
      ],
      "text/plain": [
       "                        количество_сотрудников  площадь_зала  \\\n",
       "количество_сотрудников                1.000000      0.001628   \n",
       "площадь_зала                          0.001628      1.000000   \n",
       "температура_зала                      0.064015     -0.174884   \n",
       "количество_произведено               -0.023894     -0.022393   \n",
       "количество_брака                      0.014704     -0.045526   \n",
       "\n",
       "                        температура_зала  количество_произведено  \\\n",
       "количество_сотрудников          0.064015               -0.023894   \n",
       "площадь_зала                   -0.174884               -0.022393   \n",
       "температура_зала                1.000000               -0.026006   \n",
       "количество_произведено         -0.026006                1.000000   \n",
       "количество_брака                0.348446                0.325499   \n",
       "\n",
       "                        количество_брака  \n",
       "количество_сотрудников          0.014704  \n",
       "площадь_зала                   -0.045526  \n",
       "температура_зала                0.348446  \n",
       "количество_произведено          0.325499  \n",
       "количество_брака                1.000000  "
      ]
     },
     "execution_count": 133,
     "metadata": {},
     "output_type": "execute_result"
    }
   ],
   "source": [
    "corr_matrix"
   ]
  },
  {
   "cell_type": "code",
   "execution_count": 134,
   "id": "a1b0789a-c37a-47c9-ad6c-08bfc3218d52",
   "metadata": {},
   "outputs": [
    {
     "data": {
      "image/png": "[encoded data removed]",
      "text/plain": [
       "<Figure size 1000x800 with 2 Axes>"
      ]
     },
     "metadata": {},
     "output_type": "display_data"
    }
   ],
   "source": [
    "plt.figure(figsize=(10, 8))\n",
    "sns.heatmap(corr_matrix, annot=True, cmap='coolwarm', center=0)\n",
    "plt.title('Матрица корреляций числовых показателей')\n",
    "plt.show()"
   ]
  },
  {
   "cell_type": "markdown",
   "id": "34fe7614-a819-44ad-81e0-60f5cdf1fd58",
   "metadata": {},
   "source": [
    "Выводы и рекомендации:\n",
    "\n",
    "- Существует слабая положительная связь между температурой производственного зала и количеством брака. Рост температуры зала приводит к росту количества брака. Рекомендуется проверить причинно-следственную связь: от плохого сырья до перегрева станков.\n",
    "- Кроме того, наблюдается слабая положительная связь между количеством производимой продукции и количеством брака. Стоит провести оценку нагрузки."
   ]
  }
 ],
 "metadata": {
  "kernelspec": {
   "display_name": "Python 3 (ipykernel)",
   "language": "python",
   "name": "python3"
  },
  "language_info": {
   "codemirror_mode": {
    "name": "ipython",
    "version": 3
   },
   "file_extension": ".py",
   "mimetype": "text/x-python",
   "name": "python",
   "nbconvert_exporter": "python",
   "pygments_lexer": "ipython3",
   "version": "3.12.6"
  }
 },
 "nbformat": 4,
 "nbformat_minor": 5
}
